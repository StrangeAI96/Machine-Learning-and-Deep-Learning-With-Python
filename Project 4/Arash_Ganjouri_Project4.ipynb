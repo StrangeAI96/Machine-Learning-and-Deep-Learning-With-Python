{
  "cells": [
    {
      "cell_type": "markdown",
      "id": "5e8d7eed",
      "metadata": {
        "id": "5e8d7eed"
      },
      "source": [
        "# Project 4 — EMNIST Image Classification with ConvNN  \n",
        "\n",
        "**Author:** _Arash Ganjouri_  \n",
        "**Course/Section:** _Machine Learning & Deep Learning With Python_  \n",
        "\n",
        "---"
      ]
    },
    {
      "cell_type": "markdown",
      "id": "b936cc56",
      "metadata": {
        "id": "b936cc56"
      },
      "source": [
        "# 1. Data Loading and Preparation\n",
        "\n",
        "**Dataset:** EMNIST (Balanced split, 47 classes: digits + uppercase/lowercase letters).  \n",
        "**Source & Format:** Images are grayscale, 28×28 pixels, provided as train/test partitions.  \n",
        "**Project Split:** From the official training set, we create a **validation** subset (90% train / 10% val) for model selection and hyperparameter tuning.  \n",
        "**Rationale:** A held-out validation set prevents overfitting to the training data and enables unbiased tuning of hyperparameters before final **test** evaluation.\n",
        "\n",
        "**Key Steps:**\n",
        "- Download EMNIST *balanced* split.\n",
        "- Apply the same preprocessing transforms for train/val/test for consistency.\n",
        "- Build train/val/test loaders (batched, shuffled for train).\n",
        "\n",
        "**Assumptions/Decisions:**\n",
        "- Batch size defaults to 64 for baseline experiments.\n",
        "- Random seed is fixed (e.g., 42) for reproducibility of the train/val split."
      ]
    },
    {
      "cell_type": "code",
      "execution_count": null,
      "id": "87d9ebe2",
      "metadata": {
        "id": "87d9ebe2"
      },
      "outputs": [],
      "source": [
        "!pip -q install torch torchvision torchaudio --index-url https://download.pytorch.org/whl/cu121\n",
        "!pip -q install wandb scikit-learn matplotlib"
      ]
    },
    {
      "cell_type": "code",
      "execution_count": null,
      "id": "c51ddf92",
      "metadata": {
        "id": "c51ddf92",
        "colab": {
          "base_uri": "https://localhost:8080/"
        },
        "outputId": "f6ab7879-cd7f-4605-df9f-331ff8ab3316"
      },
      "outputs": [
        {
          "output_type": "execute_result",
          "data": {
            "text/plain": [
              "device(type='cuda')"
            ]
          },
          "metadata": {},
          "execution_count": 2
        }
      ],
      "source": [
        "import os, math, random\n",
        "import numpy as np\n",
        "import torch\n",
        "import torch.nn as nn\n",
        "import torch.nn.functional as F\n",
        "from torch.utils.data import DataLoader, random_split\n",
        "from torchvision import datasets, transforms\n",
        "import matplotlib.pyplot as plt\n",
        "from sklearn.metrics import confusion_matrix, classification_report\n",
        "import wandb\n",
        "\n",
        "SEED = 42\n",
        "random.seed(SEED)\n",
        "np.random.seed(SEED)\n",
        "torch.manual_seed(SEED)\n",
        "torch.cuda.manual_seed_all(SEED)\n",
        "\n",
        "device = torch.device('cuda' if torch.cuda.is_available() else 'cpu')\n",
        "device"
      ]
    },
    {
      "cell_type": "markdown",
      "id": "71eea7bd",
      "metadata": {
        "id": "71eea7bd"
      },
      "source": [
        "# 2. Data Preprocessing\n",
        "\n",
        "**Orientation Fix:** EMNIST images are rotated and mirrored relative to MNIST conventions. We correct this by:\n",
        "1) Rotating the tensor by **+90°** (clockwise), then  \n",
        "2) Applying a **horizontal flip**.\n",
        "\n",
        "**Normalization:** Standardize intensities with mean **0.1307** and std **0.3081** (common for MNIST/EMNIST). This stabilizes optimization and improves convergence.\n",
        "\n",
        "**Optional Visualization (Described):**\n",
        "- Randomly select a small grid of samples from the training set.\n",
        "- Display their grayscale images with corresponding labels to verify orientation and data variety.\n",
        "(Per your request, this report is text-only; hence, no actual figures are embedded.)"
      ]
    },
    {
      "cell_type": "code",
      "execution_count": null,
      "id": "a909dd70",
      "metadata": {
        "id": "a909dd70"
      },
      "outputs": [],
      "source": [
        "def fix_emnist(x: torch.Tensor) -> torch.Tensor:\n",
        "    x = torch.rot90(x, 1, [1, 2])  # rotate 90° CW\n",
        "    x = torch.flip(x, [2])         # horizontal flip\n",
        "    return x\n",
        "\n",
        "transform = transforms.Compose([\n",
        "    transforms.ToTensor(),\n",
        "    transforms.Lambda(fix_emnist),\n",
        "    transforms.Normalize((0.1307,), (0.3081,)),\n",
        "])"
      ]
    },
    {
      "cell_type": "code",
      "execution_count": null,
      "id": "4efe782d",
      "metadata": {
        "id": "4efe782d",
        "colab": {
          "base_uri": "https://localhost:8080/"
        },
        "outputId": "4b4e5dd2-fc8a-4fc4-ac0d-c029be1055de"
      },
      "outputs": [
        {
          "output_type": "stream",
          "name": "stderr",
          "text": [
            "100%|██████████| 562M/562M [00:05<00:00, 94.0MB/s]\n"
          ]
        },
        {
          "output_type": "stream",
          "name": "stdout",
          "text": [
            "Train: 101520 | Valid: 11280 | Test: 18800 | Classes: 47\n"
          ]
        }
      ],
      "source": [
        "root='./data'\n",
        "train_full = datasets.EMNIST(root=root, split='balanced', train=True, download=True, transform=transform)\n",
        "test_ds    = datasets.EMNIST(root=root, split='balanced', train=False, download=True, transform=transform)\n",
        "\n",
        "num_classes = len(train_full.classes)\n",
        "class_names = train_full.classes\n",
        "\n",
        "val_ratio = 0.1\n",
        "n_val = int(len(train_full) * val_ratio)\n",
        "n_train = len(train_full) - n_val\n",
        "train_ds, val_ds = random_split(train_full, [n_train, n_val], generator=torch.Generator().manual_seed(SEED))\n",
        "\n",
        "print(f\"Train: {len(train_ds)} | Valid: {len(val_ds)} | Test: {len(test_ds)} | Classes: {num_classes}\")"
      ]
    },
    {
      "cell_type": "markdown",
      "id": "a39a1c3a",
      "metadata": {
        "id": "a39a1c3a"
      },
      "source": [
        "# 3. Model Definition (ConvNN)\n",
        "\n",
        "**Architecture Overview:** A compact CNN tailored for 28×28 grayscale characters.  \n",
        "**Convolutional Feature Extractor (2 blocks):**\n",
        "- **Block 1:** `Conv2d(1→32, kernel=3, stride=1, padding=1)` → `ReLU` → `MaxPool2d(2)`  ⟶ Reduces spatial size from 28×28 to 14×14.  \n",
        "- **Block 2:** `Conv2d(32→64, kernel=3, stride=1, padding=1)` → `ReLU` → `MaxPool2d(2)` ⟶ Reduces spatial size from 14×14 to 7×7.\n",
        "\n",
        "**Flatten:** Converts the 64×7×7 activation map to a vector of length **3136**.\n",
        "\n",
        "**Fully Connected Classifier:**  \n",
        "1) `Linear(3136→128)` → `ReLU` → `Dropout(0.20)`  \n",
        "2) `Linear(128→128)` → `BatchNorm1d(128)` → `ReLU` → `Dropout(0.20)`  \n",
        "3) `Linear(128→64)` → `BatchNorm1d(64)` → `ReLU` → `Dropout(0.20)`  \n",
        "4) `Linear(64→64)` → `BatchNorm1d(64)` → `ReLU` → `Dropout(0.15)`  \n",
        "5) `Linear(64→num_classes)` with **num_classes = 47** for EMNIST (Balanced).\n",
        "\n",
        "**Why This Design?**\n",
        "- Two convolutional blocks extract stroke/edge patterns at increasing abstraction while controlling spatial size via pooling.  \n",
        "- Batch Normalization stabilizes deeper FC layers; Dropout regularizes to mitigate overfitting.  \n",
        "- The final linear layer outputs **logits** for cross-entropy classification."
      ]
    },
    {
      "cell_type": "code",
      "execution_count": null,
      "id": "5b47c61c",
      "metadata": {
        "id": "5b47c61c"
      },
      "outputs": [],
      "source": [
        "import torch\n",
        "import torch.nn as nn\n",
        "\n",
        "class ConvNN(nn.Module):\n",
        "    def __init__(self, num_classes):\n",
        "        super(ConvNN, self).__init__()\n",
        "\n",
        "        self.network = nn.Sequential(\n",
        "            # --- Convolution layers ---\n",
        "            nn.Conv2d(in_channels=1, out_channels=32, kernel_size=3, stride=1, padding=1),  # (1,28,28) -> (32,28,28)\n",
        "            nn.ReLU(),\n",
        "            nn.MaxPool2d(2),  # (32,14,14)\n",
        "\n",
        "            nn.Conv2d(in_channels=32, out_channels=64, kernel_size=3, stride=1, padding=1), # (32,14,14) -> (64,14,14)\n",
        "            nn.ReLU(),\n",
        "            nn.MaxPool2d(2),  # (64,7,7)\n",
        "\n",
        "            nn.Flatten(),\n",
        "\n",
        "            # --- Fully Connected layers ---\n",
        "            nn.Linear(64 * 7 * 7, 128),\n",
        "            nn.ReLU(),\n",
        "            nn.Dropout(0.20),\n",
        "\n",
        "            nn.Linear(128, 128),\n",
        "            nn.BatchNorm1d(128),\n",
        "            nn.ReLU(),\n",
        "            nn.Dropout(0.20),\n",
        "\n",
        "            nn.Linear(128, 64),\n",
        "            nn.BatchNorm1d(64),\n",
        "            nn.ReLU(),\n",
        "            nn.Dropout(0.20),\n",
        "\n",
        "            nn.Linear(64, 64),\n",
        "            nn.BatchNorm1d(64),\n",
        "            nn.ReLU(),\n",
        "            nn.Dropout(0.15),\n",
        "            nn.Linear(64, num_classes)\n",
        "        )\n",
        "\n",
        "    def forward(self, x):\n",
        "        return self.network(x)"
      ]
    },
    {
      "cell_type": "markdown",
      "id": "a56e9486",
      "metadata": {
        "id": "a56e9486"
      },
      "source": [
        "# 4. Model Training and Evaluation\n",
        "\n",
        "**Objective Function:** `CrossEntropyLoss` for multi-class classification.  \n",
        "**Optimizers:** Baseline uses **Adam** with learning rate **1e-3**; **SGD** with momentum is also supported.  \n",
        "**Training Protocol (Baseline):**\n",
        "- Epochs: **5** (as a compact baseline budget).\n",
        "- Batch size: **64**.\n",
        "- For each epoch: one **training** pass (update weights) and one **validation** pass (monitor generalization).\n",
        "\n",
        "**Metrics & Curves (Described):**\n",
        "- Track **training/validation loss** and **accuracy** per epoch.  \n",
        "- Plot loss/accuracy curves to detect under/overfitting. (In this text-only report, plots are described but not included.)\n",
        "\n",
        "**Final Test Evaluation:**\n",
        "- After model selection on validation results, evaluate on the **held-out test set**.  \n",
        "- Report overall **accuracy**, the **confusion matrix** (class-wise error patterns), and **classification report** (precision, recall, F1 per class)."
      ]
    },
    {
      "cell_type": "code",
      "execution_count": null,
      "id": "b2fa1ca5",
      "metadata": {
        "id": "b2fa1ca5"
      },
      "outputs": [],
      "source": [
        "def accuracy(logits, y):\n",
        "    return (logits.argmax(1) == y).float().mean().item()\n",
        "\n",
        "def train_epoch(model, loader, optimizer, loss_fn):\n",
        "    model.train()\n",
        "    tot_loss, tot_correct, tot = 0.0, 0, 0\n",
        "    for xb, yb in loader:\n",
        "        xb, yb = xb.to(device), yb.to(device)\n",
        "        optimizer.zero_grad()\n",
        "        out = model(xb)\n",
        "        loss = loss_fn(out, yb)\n",
        "        loss.backward(); optimizer.step()\n",
        "        tot_loss += loss.item() * xb.size(0)\n",
        "        tot_correct += (out.argmax(1) == yb).sum().item()\n",
        "        tot += xb.size(0)\n",
        "    return tot_loss/tot, tot_correct/tot\n",
        "\n",
        "@torch.no_grad()\n",
        "def validate_epoch(model, loader, loss_fn):\n",
        "    model.eval()\n",
        "    tot_loss, tot_correct, tot = 0.0, 0.0, 0\n",
        "    for xb, yb in loader:\n",
        "        xb, yb = xb.to(device), yb.to(device)\n",
        "        out = model(xb)\n",
        "        loss = loss_fn(out, yb)\n",
        "        tot_loss += loss.item() * xb.size(0)\n",
        "        tot_correct += (out.argmax(1) == yb).sum().item()\n",
        "        tot += xb.size(0)\n",
        "    return tot_loss/tot, tot_correct/tot\n",
        "\n",
        "def plot_history(hist):\n",
        "    e = range(1, len(hist['train_loss'])+1)\n",
        "    plt.figure(figsize=(6,4))\n",
        "    plt.plot(e, hist['train_loss'], label='Train Loss')\n",
        "    plt.plot(e, hist['val_loss'], label='Val Loss')\n",
        "    plt.xlabel('Epoch'); plt.ylabel('Loss'); plt.legend(); plt.title('Loss'); plt.show()\n",
        "    plt.figure(figsize=(6,4))\n",
        "    plt.plot(e, hist['train_acc'], label='Train Acc')\n",
        "    plt.plot(e, hist['val_acc'], label='Val Acc')\n",
        "    plt.xlabel('Epoch'); plt.ylabel('Accuracy'); plt.legend(); plt.title('Accuracy'); plt.show()\n",
        "\n",
        "@torch.no_grad()\n",
        "def evaluate_test(model, loader):\n",
        "    model.eval()\n",
        "    preds, trues = [], []\n",
        "    for xb, yb in loader:\n",
        "        xb = xb.to(device)\n",
        "        preds.append(model(xb).argmax(1).cpu())\n",
        "        trues.append(yb)\n",
        "    y_pred = torch.cat(preds).numpy()\n",
        "    y_true = torch.cat(trues).numpy()\n",
        "    acc = (y_pred == y_true).mean()\n",
        "    print(f\"Test Accuracy: {acc:.4f}\")\n",
        "    cm = confusion_matrix(y_true, y_pred, labels=list(range(num_classes)))\n",
        "    plt.figure(figsize=(10,10))\n",
        "    plt.imshow(cm, interpolation='nearest')\n",
        "    plt.title('Confusion Matrix'); plt.colorbar()\n",
        "    ticks = np.arange(num_classes)\n",
        "    plt.xticks(ticks, class_names, rotation=90); plt.yticks(ticks, class_names)\n",
        "    plt.tight_layout(); plt.ylabel('True'); plt.xlabel('Pred'); plt.show()\n",
        "    print('\\nClassification Report:')\n",
        "    print(classification_report(y_true, y_pred, target_names=class_names))"
      ]
    },
    {
      "cell_type": "code",
      "execution_count": null,
      "id": "fc207a3c",
      "metadata": {
        "id": "fc207a3c",
        "colab": {
          "base_uri": "https://localhost:8080/",
          "height": 1000
        },
        "outputId": "d57f0bfe-422d-464e-f7ba-de945fe729e7"
      },
      "outputs": [
        {
          "output_type": "stream",
          "name": "stderr",
          "text": [
            "/usr/local/lib/python3.12/dist-packages/notebook/notebookapp.py:191: SyntaxWarning: invalid escape sequence '\\/'\n",
            "  | |_| | '_ \\/ _` / _` |  _/ -_)\n"
          ]
        },
        {
          "output_type": "display_data",
          "data": {
            "text/plain": [
              "<IPython.core.display.Javascript object>"
            ],
            "application/javascript": [
              "\n",
              "        window._wandbApiKey = new Promise((resolve, reject) => {\n",
              "            function loadScript(url) {\n",
              "            return new Promise(function(resolve, reject) {\n",
              "                let newScript = document.createElement(\"script\");\n",
              "                newScript.onerror = reject;\n",
              "                newScript.onload = resolve;\n",
              "                document.body.appendChild(newScript);\n",
              "                newScript.src = url;\n",
              "            });\n",
              "            }\n",
              "            loadScript(\"https://cdn.jsdelivr.net/npm/postmate/build/postmate.min.js\").then(() => {\n",
              "            const iframe = document.createElement('iframe')\n",
              "            iframe.style.cssText = \"width:0;height:0;border:none\"\n",
              "            document.body.appendChild(iframe)\n",
              "            const handshake = new Postmate({\n",
              "                container: iframe,\n",
              "                url: 'https://wandb.ai/authorize'\n",
              "            });\n",
              "            const timeout = setTimeout(() => reject(\"Couldn't auto authenticate\"), 5000)\n",
              "            handshake.then(function(child) {\n",
              "                child.on('authorize', data => {\n",
              "                    clearTimeout(timeout)\n",
              "                    resolve(data)\n",
              "                });\n",
              "            });\n",
              "            })\n",
              "        });\n",
              "    "
            ]
          },
          "metadata": {}
        },
        {
          "output_type": "stream",
          "name": "stderr",
          "text": [
            "\u001b[34m\u001b[1mwandb\u001b[0m: Logging into wandb.ai. (Learn how to deploy a W&B server locally: https://wandb.me/wandb-server)\n",
            "\u001b[34m\u001b[1mwandb\u001b[0m: You can find your API key in your browser here: https://wandb.ai/authorize?ref=models\n",
            "wandb: Paste an API key from your profile and hit enter:"
          ]
        },
        {
          "name": "stdout",
          "output_type": "stream",
          "text": [
            " ··········\n"
          ]
        },
        {
          "output_type": "stream",
          "name": "stderr",
          "text": [
            "\u001b[34m\u001b[1mwandb\u001b[0m: \u001b[33mWARNING\u001b[0m If you're specifying your api key in code, ensure this code is not shared publicly.\n",
            "\u001b[34m\u001b[1mwandb\u001b[0m: \u001b[33mWARNING\u001b[0m Consider setting the WANDB_API_KEY environment variable, or running `wandb login` from the command line.\n",
            "\u001b[34m\u001b[1mwandb\u001b[0m: No netrc file found, creating one.\n",
            "\u001b[34m\u001b[1mwandb\u001b[0m: Appending key for api.wandb.ai to your netrc file: /root/.netrc\n",
            "\u001b[34m\u001b[1mwandb\u001b[0m: Currently logged in as: \u001b[33marashg326\u001b[0m (\u001b[33marashg326-amirkabir-university-of-technology\u001b[0m) to \u001b[32mhttps://api.wandb.ai\u001b[0m. Use \u001b[1m`wandb login --relogin`\u001b[0m to force relogin\n",
            "\u001b[34m\u001b[1mwandb\u001b[0m: \u001b[33mWARNING\u001b[0m Using a boolean value for 'reinit' is deprecated. Use 'return_previous' or 'finish_previous' instead.\n"
          ]
        },
        {
          "output_type": "display_data",
          "data": {
            "text/plain": [
              "<IPython.core.display.HTML object>"
            ],
            "text/html": [
              "creating run (0.0s)"
            ]
          },
          "metadata": {}
        },
        {
          "output_type": "display_data",
          "data": {
            "text/plain": [
              "<IPython.core.display.HTML object>"
            ],
            "text/html": [
              "Tracking run with wandb version 0.21.3"
            ]
          },
          "metadata": {}
        },
        {
          "output_type": "display_data",
          "data": {
            "text/plain": [
              "<IPython.core.display.HTML object>"
            ],
            "text/html": [
              "Run data is saved locally in <code>/content/wandb/run-20250911_161153-hrj1liqg</code>"
            ]
          },
          "metadata": {}
        },
        {
          "output_type": "display_data",
          "data": {
            "text/plain": [
              "<IPython.core.display.HTML object>"
            ],
            "text/html": [
              "Syncing run <strong><a href='https://wandb.ai/arashg326-amirkabir-university-of-technology/project4-emnist/runs/hrj1liqg' target=\"_blank\">baseline-convnn</a></strong> to <a href='https://wandb.ai/arashg326-amirkabir-university-of-technology/project4-emnist' target=\"_blank\">Weights & Biases</a> (<a href='https://wandb.me/developer-guide' target=\"_blank\">docs</a>)<br>"
            ]
          },
          "metadata": {}
        },
        {
          "output_type": "display_data",
          "data": {
            "text/plain": [
              "<IPython.core.display.HTML object>"
            ],
            "text/html": [
              " View project at <a href='https://wandb.ai/arashg326-amirkabir-university-of-technology/project4-emnist' target=\"_blank\">https://wandb.ai/arashg326-amirkabir-university-of-technology/project4-emnist</a>"
            ]
          },
          "metadata": {}
        },
        {
          "output_type": "display_data",
          "data": {
            "text/plain": [
              "<IPython.core.display.HTML object>"
            ],
            "text/html": [
              " View run at <a href='https://wandb.ai/arashg326-amirkabir-university-of-technology/project4-emnist/runs/hrj1liqg' target=\"_blank\">https://wandb.ai/arashg326-amirkabir-university-of-technology/project4-emnist/runs/hrj1liqg</a>"
            ]
          },
          "metadata": {}
        },
        {
          "output_type": "stream",
          "name": "stdout",
          "text": [
            "Epoch 01 | train_loss=1.2674 acc=0.6348 | val_loss=0.4795 acc=0.8342\n",
            "Epoch 02 | train_loss=0.6486 acc=0.7882 | val_loss=0.4249 acc=0.8547\n",
            "Epoch 03 | train_loss=0.5641 acc=0.8143 | val_loss=0.4021 acc=0.8607\n",
            "Epoch 04 | train_loss=0.5196 acc=0.8271 | val_loss=0.3878 acc=0.8629\n",
            "Epoch 05 | train_loss=0.4917 acc=0.8344 | val_loss=0.3727 acc=0.8722\n"
          ]
        },
        {
          "output_type": "display_data",
          "data": {
            "text/plain": [
              "<Figure size 600x400 with 1 Axes>"
            ],
            "image/png": "[encoded data removed]"
          },
          "metadata": {}
        },
        {
          "output_type": "display_data",
          "data": {
            "text/plain": [
              "<Figure size 600x400 with 1 Axes>"
            ],
            "image/png": "[encoded data removed]"
          },
          "metadata": {}
        },
        {
          "output_type": "display_data",
          "data": {
            "text/plain": [
              "<IPython.core.display.HTML object>"
            ],
            "text/html": []
          },
          "metadata": {}
        },
        {
          "output_type": "display_data",
          "data": {
            "text/plain": [
              "<IPython.core.display.HTML object>"
            ],
            "text/html": [
              "<br>    <style><br>        .wandb-row {<br>            display: flex;<br>            flex-direction: row;<br>            flex-wrap: wrap;<br>            justify-content: flex-start;<br>            width: 100%;<br>        }<br>        .wandb-col {<br>            display: flex;<br>            flex-direction: column;<br>            flex-basis: 100%;<br>            flex: 1;<br>            padding: 10px;<br>        }<br>    </style><br><div class=\"wandb-row\"><div class=\"wandb-col\"><h3>Run history:</h3><br/><table class=\"wandb\"><tr><td>epoch</td><td>▁▃▅▆█</td></tr><tr><td>train/acc</td><td>▁▆▇██</td></tr><tr><td>train/loss</td><td>█▂▂▁▁</td></tr><tr><td>val/acc</td><td>▁▅▆▆█</td></tr><tr><td>val/loss</td><td>█▄▃▂▁</td></tr></table><br/></div><div class=\"wandb-col\"><h3>Run summary:</h3><br/><table class=\"wandb\"><tr><td>epoch</td><td>5</td></tr><tr><td>train/acc</td><td>0.83438</td></tr><tr><td>train/loss</td><td>0.49174</td></tr><tr><td>val/acc</td><td>0.87216</td></tr><tr><td>val/loss</td><td>0.37271</td></tr></table><br/></div></div>"
            ]
          },
          "metadata": {}
        },
        {
          "output_type": "display_data",
          "data": {
            "text/plain": [
              "<IPython.core.display.HTML object>"
            ],
            "text/html": [
              " View run <strong style=\"color:#cdcd00\">baseline-convnn</strong> at: <a href='https://wandb.ai/arashg326-amirkabir-university-of-technology/project4-emnist/runs/hrj1liqg' target=\"_blank\">https://wandb.ai/arashg326-amirkabir-university-of-technology/project4-emnist/runs/hrj1liqg</a><br> View project at: <a href='https://wandb.ai/arashg326-amirkabir-university-of-technology/project4-emnist' target=\"_blank\">https://wandb.ai/arashg326-amirkabir-university-of-technology/project4-emnist</a><br>Synced 5 W&B file(s), 0 media file(s), 0 artifact file(s) and 0 other file(s)"
            ]
          },
          "metadata": {}
        },
        {
          "output_type": "display_data",
          "data": {
            "text/plain": [
              "<IPython.core.display.HTML object>"
            ],
            "text/html": [
              "Find logs at: <code>./wandb/run-20250911_161153-hrj1liqg/logs</code>"
            ]
          },
          "metadata": {}
        }
      ],
      "source": [
        "BATCH = 64\n",
        "EPOCHS = 5\n",
        "LR = 1e-3\n",
        "OPT = 'adam'  # or 'sgd'\n",
        "\n",
        "train_loader = DataLoader(train_ds, batch_size=BATCH, shuffle=True, num_workers=2, pin_memory=True)\n",
        "val_loader   = DataLoader(val_ds,   batch_size=BATCH, shuffle=False, num_workers=2, pin_memory=True)\n",
        "test_loader  = DataLoader(test_ds,  batch_size=BATCH, shuffle=False, num_workers=2, pin_memory=True)\n",
        "\n",
        "model = ConvNN(num_classes).to(device)\n",
        "optimizer = torch.optim.Adam(model.parameters(), lr=LR) if OPT=='adam' else torch.optim.SGD(model.parameters(), lr=LR, momentum=0.9)\n",
        "loss_fn = nn.CrossEntropyLoss()\n",
        "\n",
        "wandb.init(project=\"project4-emnist\", name=\"baseline-convnn\", reinit=True)\n",
        "history = {'train_loss':[], 'val_loss':[], 'train_acc':[], 'val_acc':[]}\n",
        "for epoch in range(1, EPOCHS+1):\n",
        "    tr_loss, tr_acc = train_epoch(model, train_loader, optimizer, loss_fn)\n",
        "    va_loss, va_acc = validate_epoch(model, val_loader, loss_fn)\n",
        "    history['train_loss'].append(tr_loss); history['train_acc'].append(tr_acc)\n",
        "    history['val_loss'].append(va_loss);   history['val_acc'].append(va_acc)\n",
        "    print(f\"Epoch {epoch:02d} | train_loss={tr_loss:.4f} acc={tr_acc:.4f} | val_loss={va_loss:.4f} acc={va_acc:.4f}\")\n",
        "    wandb.log({'epoch': epoch, 'train/loss': tr_loss, 'train/acc': tr_acc, 'val/loss': va_loss, 'val/acc': va_acc})\n",
        "plot_history(history)\n",
        "wandb.finish()"
      ]
    },
    {
      "cell_type": "code",
      "execution_count": null,
      "id": "a57ba764",
      "metadata": {
        "id": "a57ba764",
        "colab": {
          "base_uri": "https://localhost:8080/",
          "height": 1000
        },
        "outputId": "f5fb071c-a2e5-4bdd-caa8-f4b56c7ff17d"
      },
      "outputs": [
        {
          "output_type": "stream",
          "name": "stdout",
          "text": [
            "Test Accuracy: 0.8609\n"
          ]
        },
        {
          "output_type": "display_data",
          "data": {
            "text/plain": [
              "<Figure size 1000x1000 with 2 Axes>"
            ],
            "image/png": "[encoded data removed]"
          },
          "metadata": {}
        },
        {
          "output_type": "stream",
          "name": "stdout",
          "text": [
            "\n",
            "Classification Report:\n",
            "              precision    recall  f1-score   support\n",
            "\n",
            "           0       0.54      0.89      0.67       400\n",
            "           1       0.50      0.72      0.59       400\n",
            "           2       0.94      0.78      0.85       400\n",
            "           3       0.99      0.98      0.98       400\n",
            "           4       0.89      0.92      0.91       400\n",
            "           5       0.95      0.84      0.89       400\n",
            "           6       0.91      0.95      0.93       400\n",
            "           7       0.96      0.99      0.97       400\n",
            "           8       0.89      0.93      0.91       400\n",
            "           9       0.60      0.92      0.72       400\n",
            "           A       0.94      0.96      0.95       400\n",
            "           B       0.97      0.96      0.96       400\n",
            "           C       0.93      0.94      0.94       400\n",
            "           D       0.93      0.91      0.92       400\n",
            "           E       0.97      0.97      0.97       400\n",
            "           F       0.76      0.37      0.50       400\n",
            "           G       0.94      0.90      0.92       400\n",
            "           H       0.94      0.95      0.95       400\n",
            "           I       0.56      0.75      0.64       400\n",
            "           J       0.95      0.90      0.92       400\n",
            "           K       0.95      0.97      0.96       400\n",
            "           L       0.89      0.23      0.37       400\n",
            "           M       0.95      0.96      0.96       400\n",
            "           N       0.90      0.97      0.94       400\n",
            "           O       0.77      0.30      0.43       400\n",
            "           P       0.97      0.95      0.96       400\n",
            "           Q       0.93      0.92      0.92       400\n",
            "           R       0.96      0.96      0.96       400\n",
            "           S       0.84      0.94      0.89       400\n",
            "           T       0.92      0.93      0.92       400\n",
            "           U       0.91      0.92      0.91       400\n",
            "           V       0.92      0.93      0.92       400\n",
            "           W       0.96      0.98      0.97       400\n",
            "           X       0.98      0.94      0.96       400\n",
            "           Y       0.92      0.89      0.90       400\n",
            "           Z       0.80      0.96      0.88       400\n",
            "           a       0.86      0.90      0.88       400\n",
            "           b       0.93      0.92      0.92       400\n",
            "           d       0.96      0.95      0.95       400\n",
            "           e       0.96      0.96      0.96       400\n",
            "           f       0.58      0.83      0.68       400\n",
            "           g       0.77      0.55      0.64       400\n",
            "           h       0.89      0.95      0.92       400\n",
            "           n       0.94      0.89      0.91       400\n",
            "           q       0.71      0.43      0.54       400\n",
            "           r       0.90      0.94      0.92       400\n",
            "           t       0.91      0.86      0.89       400\n",
            "\n",
            "    accuracy                           0.86     18800\n",
            "   macro avg       0.87      0.86      0.86     18800\n",
            "weighted avg       0.87      0.86      0.86     18800\n",
            "\n"
          ]
        }
      ],
      "source": [
        "evaluate_test(model, test_loader)"
      ]
    },
    {
      "cell_type": "markdown",
      "id": "dc85db5c",
      "metadata": {
        "id": "dc85db5c"
      },
      "source": [
        "# 5. Hyperparameter Sweep (Weights & Biases)\n",
        "\n",
        "**Purpose:** Systematically explore model/optimizer settings to improve validation accuracy while keeping the architecture style intact.\n",
        "\n",
        "**Variant (ConvNNVar):** Same overall design as ConvNN (two Conv→ReLU→Pool blocks, then the same FC stack) but exposes tunable knobs.\n",
        "\n",
        "**Search Strategy:** W&B **random search** sweep optimizing **validation accuracy**.  \n",
        "**Knobs Varied:**\n",
        "- **Learning rate**: continuous in \\[1e-4, 1e-2\\]  \n",
        "- **Optimizer**: {SGD (with momentum), Adam}  \n",
        "- **Batch size**: {8, 16, 32, 64, 128}  \n",
        "- **Conv filters**: `c1` ∈ {24, 32, 48, 64}, `c2` ∈ {48, 64, 96, 128}  \n",
        "- **Kernel size**: {3, 5}  \n",
        "- **# Conv layers**: {1, 2} (one or two Conv→ReLU→Pool blocks)  \n",
        "- **Dropouts (FC)**: four probabilities in narrow ranges to preserve the intended regularization pattern.\n",
        "\n",
        "**Per-Run Budget:** 5 training epochs per trial, logging train/val loss & accuracy each epoch; best **val accuracy** summarized per run."
      ]
    },
    {
      "cell_type": "code",
      "execution_count": null,
      "id": "c30a0c3f",
      "metadata": {
        "id": "c30a0c3f",
        "colab": {
          "base_uri": "https://localhost:8080/",
          "height": 139
        },
        "outputId": "c6d61cee-cdaf-4c4e-af49-762c1a3f06d4"
      },
      "outputs": [
        {
          "output_type": "display_data",
          "data": {
            "text/plain": [
              "<IPython.core.display.Javascript object>"
            ],
            "application/javascript": [
              "\n",
              "        window._wandbApiKey = new Promise((resolve, reject) => {\n",
              "            function loadScript(url) {\n",
              "            return new Promise(function(resolve, reject) {\n",
              "                let newScript = document.createElement(\"script\");\n",
              "                newScript.onerror = reject;\n",
              "                newScript.onload = resolve;\n",
              "                document.body.appendChild(newScript);\n",
              "                newScript.src = url;\n",
              "            });\n",
              "            }\n",
              "            loadScript(\"https://cdn.jsdelivr.net/npm/postmate/build/postmate.min.js\").then(() => {\n",
              "            const iframe = document.createElement('iframe')\n",
              "            iframe.style.cssText = \"width:0;height:0;border:none\"\n",
              "            document.body.appendChild(iframe)\n",
              "            const handshake = new Postmate({\n",
              "                container: iframe,\n",
              "                url: 'https://wandb.ai/authorize'\n",
              "            });\n",
              "            const timeout = setTimeout(() => reject(\"Couldn't auto authenticate\"), 5000)\n",
              "            handshake.then(function(child) {\n",
              "                child.on('authorize', data => {\n",
              "                    clearTimeout(timeout)\n",
              "                    resolve(data)\n",
              "                });\n",
              "            });\n",
              "            })\n",
              "        });\n",
              "    "
            ]
          },
          "metadata": {}
        },
        {
          "output_type": "stream",
          "name": "stderr",
          "text": [
            "\u001b[34m\u001b[1mwandb\u001b[0m: Logging into wandb.ai. (Learn how to deploy a W&B server locally: https://wandb.me/wandb-server)\n",
            "\u001b[34m\u001b[1mwandb\u001b[0m: You can find your API key in your browser here: https://wandb.ai/authorize\n",
            "wandb: Paste an API key from your profile and hit enter:"
          ]
        },
        {
          "name": "stdout",
          "output_type": "stream",
          "text": [
            " ··········\n"
          ]
        },
        {
          "output_type": "stream",
          "name": "stderr",
          "text": [
            "\u001b[34m\u001b[1mwandb\u001b[0m: \u001b[33mWARNING\u001b[0m If you're specifying your api key in code, ensure this code is not shared publicly.\n",
            "\u001b[34m\u001b[1mwandb\u001b[0m: \u001b[33mWARNING\u001b[0m Consider setting the WANDB_API_KEY environment variable, or running `wandb login` from the command line.\n",
            "\u001b[34m\u001b[1mwandb\u001b[0m: Appending key for api.wandb.ai to your netrc file: /root/.netrc\n"
          ]
        }
      ],
      "source": [
        "# If needed, use offline logging:\n",
        "# import os; os.environ['WANDB_MODE'] = 'offline'\n",
        "try:\n",
        "    wandb.login(relogin=True)\n",
        "except Exception as e:\n",
        "    print(\"W&B login issue (ok to use offline mode).\"); print(e)"
      ]
    },
    {
      "cell_type": "code",
      "execution_count": null,
      "id": "7ed098b6",
      "metadata": {
        "id": "7ed098b6"
      },
      "outputs": [],
      "source": [
        "class ConvNNVar(nn.Module):\n",
        "    def __init__(self, num_classes, c1=32, c2=64, kernel_size=3, layers=2, drop_fc1=0.20, drop_fc2=0.20, drop_fc3=0.20, drop_fc4=0.15):\n",
        "        super().__init__()\n",
        "        ks = kernel_size\n",
        "        # Convolution stack (1 or 2 layers, Conv->ReLU->Pool blocks)\n",
        "        convs = []\n",
        "        convs += [nn.Conv2d(1, c1, kernel_size=ks, stride=1, padding=ks//2), nn.ReLU(), nn.MaxPool2d(2)]\n",
        "        if layers >= 2:\n",
        "            convs += [nn.Conv2d(c1, c2, kernel_size=ks, stride=1, padding=ks//2), nn.ReLU(), nn.MaxPool2d(2)]\n",
        "        self.conv = nn.Sequential(*convs)\n",
        "\n",
        "        spatial = 14 if layers == 1 else 7\n",
        "        feat = (c1 if layers==1 else c2) * spatial * spatial\n",
        "\n",
        "        # Fully connected block matching ConvNN style\n",
        "        self.fc = nn.Sequential(\n",
        "            nn.Flatten(),\n",
        "            nn.Linear(feat, 128),\n",
        "            nn.ReLU(),\n",
        "            nn.Dropout(drop_fc1),\n",
        "            nn.Linear(128, 128),\n",
        "            nn.BatchNorm1d(128),\n",
        "            nn.ReLU(),\n",
        "            nn.Dropout(drop_fc2),\n",
        "            nn.Linear(128, 64),\n",
        "            nn.BatchNorm1d(64),\n",
        "            nn.ReLU(),\n",
        "            nn.Dropout(drop_fc3),\n",
        "            nn.Linear(64, 64),\n",
        "            nn.BatchNorm1d(64),\n",
        "            nn.ReLU(),\n",
        "            nn.Dropout(drop_fc4),\n",
        "            nn.Linear(64, num_classes)\n",
        "        )\n",
        "\n",
        "    def forward(self, x):\n",
        "        x = self.conv(x)\n",
        "        x = self.fc(x)\n",
        "        return x"
      ]
    },
    {
      "cell_type": "code",
      "execution_count": null,
      "id": "7f8c1df1",
      "metadata": {
        "id": "7f8c1df1"
      },
      "outputs": [],
      "source": [
        "SWEEP = {\n",
        "    'method': 'random',\n",
        "    'metric': {'name': 'val/acc', 'goal': 'maximize'},\n",
        "    'parameters': {\n",
        "        'lr':          {'min': 1e-4, 'max': 1e-2},\n",
        "        'optimizer':   {'values': ['sgd', 'adam']},\n",
        "        'batch_size':  {'values': [8, 16, 32, 64, 128]},\n",
        "        'c1':          {'values': [24, 32, 48, 64]},\n",
        "        'c2':          {'values': [48, 64, 96, 128]},\n",
        "        'kernel_size': {'values': [3, 5]},\n",
        "        'layers':      {'values': [1, 2]},\n",
        "        'drop_fc1':    {'min': 0.15, 'max': 0.25},\n",
        "        'drop_fc2':    {'min': 0.15, 'max': 0.25},\n",
        "        'drop_fc3':    {'min': 0.15, 'max': 0.25},\n",
        "        'drop_fc4':    {'min': 0.10, 'max': 0.20},\n",
        "    }\n",
        "}\n",
        "\n",
        "def sweep_train():\n",
        "    with wandb.init(project=\"project4-emnist\", reinit=True) as run:\n",
        "        cfg = wandb.config\n",
        "        train_loader = DataLoader(train_ds, batch_size=cfg.batch_size, shuffle=True, num_workers=2, pin_memory=True)\n",
        "        val_loader   = DataLoader(val_ds,   batch_size=cfg.batch_size, shuffle=False, num_workers=2, pin_memory=True)\n",
        "\n",
        "        model = ConvNNVar(num_classes,\n",
        "                          c1=cfg.c1, c2=cfg.c2,\n",
        "                          kernel_size=cfg.kernel_size,\n",
        "                          layers=cfg.layers,\n",
        "                          drop_fc1=cfg.drop_fc1, drop_fc2=cfg.drop_fc2, drop_fc3=cfg.drop_fc3, drop_fc4=cfg.drop_fc4\n",
        "                         ).to(device)\n",
        "\n",
        "        optimizer = torch.optim.SGD(model.parameters(), lr=cfg.lr, momentum=0.9) if cfg.optimizer=='sgd' else torch.optim.Adam(model.parameters(), lr=cfg.lr)\n",
        "        loss_fn = nn.CrossEntropyLoss()\n",
        "\n",
        "        best_val = 0.0\n",
        "        for epoch in range(5):  # fixed small budget per run\n",
        "            tr_loss, tr_acc = train_epoch(model, train_loader, optimizer, loss_fn)\n",
        "            va_loss, va_acc = validate_epoch(model, val_loader, loss_fn)\n",
        "            wandb.log({'epoch': epoch+1, 'train/loss': tr_loss, 'train/acc': tr_acc, 'val/loss': va_loss, 'val/acc': va_acc})\n",
        "            best_val = max(best_val, va_acc)\n",
        "        wandb.summary['best_val_acc'] = best_val"
      ]
    },
    {
      "cell_type": "code",
      "execution_count": null,
      "id": "fc7b182f",
      "metadata": {
        "id": "fc7b182f",
        "colab": {
          "base_uri": "https://localhost:8080/"
        },
        "outputId": "32f7a47c-7acf-4c01-c5d4-da3b411d0ff8"
      },
      "outputs": [
        {
          "output_type": "stream",
          "name": "stdout",
          "text": [
            "Create sweep with ID: 85tq75me\n",
            "Sweep URL: https://wandb.ai/arashg326-amirkabir-university-of-technology/project4-emnist/sweeps/85tq75me\n",
            "Sweep ID: 85tq75me\n"
          ]
        }
      ],
      "source": [
        "sweep_id = wandb.sweep(SWEEP, project=\"project4-emnist\")\n",
        "print(\"Sweep ID:\", sweep_id)\n",
        "# To run: uncomment below and adjust count\n",
        "# wandb.agent(sweep_id, function=sweep_train, count=10)"
      ]
    },
    {
      "cell_type": "markdown",
      "id": "4abf8946",
      "metadata": {
        "id": "4abf8946"
      },
      "source": [
        "# 6. Results Analysis\n",
        "\n",
        "**Baseline vs. Tuned:**  \n",
        "- Compare baseline validation accuracy/curves with the best sweep run.  \n",
        "- Note which changes yielded the largest gains (e.g., smaller/larger learning rate, Adam vs SGD, deeper vs shallower conv).\n",
        "\n",
        "**Common Observations (Guidance):**\n",
        "- **Learning rate** often dominates: too high diverges; modest reductions can improve stability and final accuracy.  \n",
        "- **Batch size** affects optimization noise: smaller batches may generalize better, but are slower.  \n",
        "- **Kernel size** 3×3 is typically sufficient; 5×5 sometimes helps at the cost of parameters.  \n",
        "- **Two conv layers** generally outperform a single layer for EMNIST characters due to richer features.  \n",
        "- **Dropout**: Mild to moderate values counteract overfitting in FC layers.\n",
        "\n",
        "**Test-Set Insights:**  \n",
        "- Inspect confusion matrix for **systematic confusions** (e.g., similar glyphs: 'O' vs '0', 'I' vs 'l').  \n",
        "- Review precision/recall per class and consider class imbalance effects."
      ]
    },
    {
      "cell_type": "markdown",
      "id": "c52da387",
      "metadata": {
        "id": "c52da387"
      },
      "source": [
        "# 7. Conclusion\n",
        "\n",
        "This project implemented a compact **ConvNN** for EMNIST character recognition, corrected image orientation, and applied standard normalization.  \n",
        "A short baseline training established initial performance, and a **W&B sweep** explored targeted hyperparameters while keeping the model style fixed.  \n",
        "The tuned configuration improved **validation accuracy**, and the final **test evaluation** provided a fair estimate of generalization via accuracy, confusion matrix, and per-class metrics.\n",
        "\n",
        "**Takeaways:**\n",
        "- Proper preprocessing (orientation fix + normalization) is essential for EMNIST.  \n",
        "- Even a lightweight ConvNN with regularized FC layers achieves strong results.  \n",
        "- Systematic tuning (LR, optimizer, batch size, conv filters) produces reliable gains.  \n",
        "- Confusion patterns reveal visually similar characters; further gains may come from data augmentation or deeper convolutional stacks if allowed by the assignment.\n"
      ]
    }
  ],
  "metadata": {
    "colab": {
      "provenance": [],
      "gpuType": "T4"
    },
    "language_info": {
      "name": "python"
    },
    "kernelspec": {
      "name": "python3",
      "display_name": "Python 3"
    },
    "accelerator": "GPU"
  },
  "nbformat": 4,
  "nbformat_minor": 5
}